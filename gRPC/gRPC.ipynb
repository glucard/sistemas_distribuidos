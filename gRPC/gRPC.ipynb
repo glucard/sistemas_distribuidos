{
  "nbformat": 4,
  "nbformat_minor": 0,
  "metadata": {
    "colab": {
      "provenance": []
    },
    "kernelspec": {
      "name": "python3",
      "display_name": "Python 3"
    },
    "language_info": {
      "name": "python"
    }
  },
  "cells": [
    {
      "cell_type": "code",
      "source": [
        "!pip install grpcio grpcio-tools\n"
      ],
      "metadata": {
        "id": "YeJLw4qJJbMO"
      },
      "execution_count": null,
      "outputs": []
    },
    {
      "cell_type": "code",
      "execution_count": null,
      "metadata": {
        "id": "KGpfSA8FItYf"
      },
      "outputs": [],
      "source": [
        "%%writefile my_service.proto\n",
        "syntax = \"proto3\";\n",
        "\n",
        "package my_service;\n",
        "\n",
        "service MyService {\n",
        "  rpc Command (CommandRequest) returns (CommandRequest) {}\n",
        "}\n",
        "\n",
        "message CommandRequest {\n",
        "  string command = 1;\n",
        "}\n",
        "\n",
        "message CommandResponse {\n",
        "  string command_output = 1;\n",
        "}\n"
      ]
    },
    {
      "cell_type": "code",
      "source": [
        "!python -m grpc_tools.protoc -I./ --python_out=. --grpc_python_out=. my_service.proto\n"
      ],
      "metadata": {
        "id": "zsvjlqV4Kmut"
      },
      "execution_count": null,
      "outputs": []
    },
    {
      "cell_type": "code",
      "source": [
        "!ls\n",
        "!python my_service_pb2_grpc.py"
      ],
      "metadata": {
        "id": "cY-KPHZ-Kvsc"
      },
      "execution_count": null,
      "outputs": []
    },
    {
      "cell_type": "code",
      "source": [
        "import grpc\n",
        "import my_service_pb2\n",
        "import my_service_pb2_grpc\n",
        "from  concurrent import futures\n",
        "\n",
        "import subprocess\n",
        "\n",
        "class MyService(my_service_pb2_grpc.MyServiceServicer):\n",
        "    def Command(self, request, context):\n",
        "        result = subprocess.run(request.command.split(), stderr=subprocess.PIPE, text=True)\n",
        "        return my_service_pb2.CommandResponse(message=f\"command output: {result}\")\n",
        "\n",
        "def serve():\n",
        "    server = grpc.server(futures.ThreadPoolExecutor(max_workers=10))\n",
        "    my_service_pb2_grpc.add_MyServiceServicer_to_server(MyService(), server)\n",
        "    server.add_insecure_port(\"[::]:50051\")\n",
        "    server.start()\n",
        "    server.wait_for_termination()\n",
        "\n",
        "if __name__ == \"__main__\":\n",
        "    serve()\n"
      ],
      "metadata": {
        "id": "QI-D-DzyK4YD"
      },
      "execution_count": null,
      "outputs": []
    },
    {
      "cell_type": "code",
      "source": [
        "import grpc\n",
        "import my_service_pb2\n",
        "import my_service_pb2_grpc\n",
        "\n",
        "def run():\n",
        "    with grpc.insecure_channel(\"localhost:50051\") as channel:\n",
        "      while True:\n",
        "        msg = input(\"Command ('quit' to exit): \")\n",
        "        if msg == 'quit':\n",
        "          break\n",
        "        else:\n",
        "          stub = my_service_pb2_grpc.MyServiceStub(channel)\n",
        "          response = stub.Command(my_service_pb2.CommandRequest(command=msg))\n",
        "          print(response.message)\n",
        "\n",
        "if __name__ == \"__main__\":\n",
        "    run()\n"
      ],
      "metadata": {
        "id": "8VChHJxYPaJS"
      },
      "execution_count": null,
      "outputs": []
    }
  ]
}